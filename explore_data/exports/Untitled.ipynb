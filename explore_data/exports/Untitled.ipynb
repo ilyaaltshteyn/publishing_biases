{
 "cells": [
  {
   "cell_type": "code",
   "execution_count": 5,
   "metadata": {
    "collapsed": false
   },
   "outputs": [],
   "source": [
    "import pandas as pd\n",
    "import os"
   ]
  },
  {
   "cell_type": "code",
   "execution_count": 6,
   "metadata": {
    "collapsed": true
   },
   "outputs": [],
   "source": [
    "def get_files(query):\n",
    "    \"\"\" Query should be something found in name of csv file\"\"\"\n",
    "    fs = [x for x in os.listdir(os.getcwd()) if query in x]\n",
    "    return fs"
   ]
  },
  {
   "cell_type": "code",
   "execution_count": 7,
   "metadata": {
    "collapsed": true
   },
   "outputs": [],
   "source": [
    "def readfile(f):\n",
    "    d = pd.read_csv(f)\n",
    "    d.index = d._id.values\n",
    "    return d"
   ]
  },
  {
   "cell_type": "code",
   "execution_count": 10,
   "metadata": {
    "collapsed": true
   },
   "outputs": [],
   "source": [
    "def agg_data(query):\n",
    "    files = get_files(query)\n",
    "    master = readfile(files[0])\n",
    "    for f in files[1:]:\n",
    "        prefix_end = f.find(query)\n",
    "        d = readfile(f)\n",
    "        master = master.join(d, rsuffix=f[:prefix_end])\n",
    "    \n",
    "    return master"
   ]
  },
  {
   "cell_type": "code",
   "execution_count": 12,
   "metadata": {
    "collapsed": false
   },
   "outputs": [],
   "source": [
    "q = '_book-chapter_4or_more_auths_per_yr.csv'\n",
    "agg_data(q).to_csv('/Users/ilya/code/publishing_biases/analyses/data/' + q)"
   ]
  },
  {
   "cell_type": "code",
   "execution_count": 48,
   "metadata": {
    "collapsed": false
   },
   "outputs": [
    {
     "data": {
      "text/plain": [
       "'unknown-code_failure_1th_auth_'"
      ]
     },
     "execution_count": 48,
     "metadata": {},
     "output_type": "execute_result"
    }
   ],
   "source": []
  },
  {
   "cell_type": "code",
   "execution_count": null,
   "metadata": {
    "collapsed": true
   },
   "outputs": [],
   "source": []
  }
 ],
 "metadata": {
  "kernelspec": {
   "display_name": "Python 2",
   "language": "python",
   "name": "python2"
  },
  "language_info": {
   "codemirror_mode": {
    "name": "ipython",
    "version": 2
   },
   "file_extension": ".py",
   "mimetype": "text/x-python",
   "name": "python",
   "nbconvert_exporter": "python",
   "pygments_lexer": "ipython2",
   "version": "2.7.13"
  }
 },
 "nbformat": 4,
 "nbformat_minor": 2
}
