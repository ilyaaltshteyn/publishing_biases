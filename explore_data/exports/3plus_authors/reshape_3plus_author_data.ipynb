{
 "cells": [
  {
   "cell_type": "code",
   "execution_count": 92,
   "metadata": {
    "collapsed": true
   },
   "outputs": [],
   "source": [
    "import pandas as pd\n",
    "import os"
   ]
  },
  {
   "cell_type": "code",
   "execution_count": 93,
   "metadata": {
    "collapsed": false
   },
   "outputs": [],
   "source": [
    "files = [x for x in os.listdir('/Users/ilya/code/publishing_biases/explore_data/exports/3plus_authors') if x[-4:]=='.csv']"
   ]
  },
  {
   "cell_type": "code",
   "execution_count": 100,
   "metadata": {
    "collapsed": false
   },
   "outputs": [
    {
     "name": "stdout",
     "output_type": "stream",
     "text": [
      "mostly_female_1th_auth_papers_with_3or_more_authors_by_yr_mo_counts.csv\n",
      "unknown-single_character_name_0th_auth_papers_with_3or_more_authors_by_yr_mo_counts.csv\n",
      "unknown-estimation_failure_0th_auth_papers_with_3or_more_authors_by_yr_mo_counts.csv\n",
      "unknown-code_failure_1th_auth_papers_with_3or_more_authors_by_yr_mo_counts.csv\n",
      "female_0th_auth_papers_with_3or_more_authors_by_yr_mo_counts.csv\n",
      "male_1th_auth_papers_with_3or_more_authors_by_yr_mo_counts.csv\n",
      "unknown-initials_only_0th_auth_papers_with_3or_more_authors_by_yr_mo_counts.csv\n",
      "mostly_female_0th_auth_papers_with_3or_more_authors_by_yr_mo_counts.csv\n",
      "unknown-single_character_name_1th_auth_papers_with_3or_more_authors_by_yr_mo_counts.csv\n",
      "mostly_male_0th_auth_papers_with_3or_more_authors_by_yr_mo_counts.csv\n",
      "unknown-estimation_failure_1th_auth_papers_with_3or_more_authors_by_yr_mo_counts.csv\n",
      "female_1th_auth_papers_with_3or_more_authors_by_yr_mo_counts.csv\n",
      "unknown-code_failure_0th_auth_papers_with_3or_more_authors_by_yr_mo_counts.csv\n",
      "male_0th_auth_papers_with_3or_more_authors_by_yr_mo_counts.csv\n",
      "unknown-initials_only_1th_auth_papers_with_3or_more_authors_by_yr_mo_counts.csv\n"
     ]
    }
   ],
   "source": [
    "finished = 0\n",
    "for f in files:\n",
    "    print f\n",
    "    \n",
    "    d = pd.read_csv(f)\n",
    "    yrs = d['_id'].apply(lambda x: x.split('_')[0])\n",
    "    d['yrs'] = pd.Series(yrs)\n",
    "    del d['_id']\n",
    "    d.columns = [f.split('th_auth')[0], 'yrs']\n",
    "    d.index = yrs\n",
    "    d = d.groupby(d.index).sum()\n",
    "\n",
    "    if finished == 0:\n",
    "        merged = d\n",
    "    else:\n",
    "        merged = merged.join(d)\n",
    "    finished += 1\n",
    "    \n",
    "merged['total'] = merged.sum(axis=1)"
   ]
  },
  {
   "cell_type": "code",
   "execution_count": 101,
   "metadata": {
    "collapsed": false
   },
   "outputs": [],
   "source": [
    "merged['count_known_gender'] = merged.apply(lambda x: x['female_0'] + x['male_0'] + x['female_1'] + x['male_1'], axis =1)\n",
    "# merged = merged[merged['count_known_gender'] > 500]"
   ]
  },
  {
   "cell_type": "code",
   "execution_count": 102,
   "metadata": {
    "collapsed": false
   },
   "outputs": [],
   "source": [
    "merged.to_csv('merged_aggregated.csv')"
   ]
  },
  {
   "cell_type": "code",
   "execution_count": null,
   "metadata": {
    "collapsed": false
   },
   "outputs": [],
   "source": []
  },
  {
   "cell_type": "code",
   "execution_count": null,
   "metadata": {
    "collapsed": false
   },
   "outputs": [],
   "source": []
  },
  {
   "cell_type": "code",
   "execution_count": null,
   "metadata": {
    "collapsed": false
   },
   "outputs": [],
   "source": []
  },
  {
   "cell_type": "code",
   "execution_count": null,
   "metadata": {
    "collapsed": true
   },
   "outputs": [],
   "source": []
  },
  {
   "cell_type": "code",
   "execution_count": null,
   "metadata": {
    "collapsed": true
   },
   "outputs": [],
   "source": []
  }
 ],
 "metadata": {
  "kernelspec": {
   "display_name": "Python 2",
   "language": "python",
   "name": "python2"
  },
  "language_info": {
   "codemirror_mode": {
    "name": "ipython",
    "version": 2
   },
   "file_extension": ".py",
   "mimetype": "text/x-python",
   "name": "python",
   "nbconvert_exporter": "python",
   "pygments_lexer": "ipython2",
   "version": "2.7.13"
  }
 },
 "nbformat": 4,
 "nbformat_minor": 2
}
