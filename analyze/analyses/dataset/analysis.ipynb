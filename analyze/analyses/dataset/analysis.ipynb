{
 "cells": [
  {
   "cell_type": "code",
   "execution_count": 1,
   "metadata": {
    "collapsed": true
   },
   "outputs": [],
   "source": [
    "import pandas as pd\n",
    "import numpy as np\n",
    "from matplotlib import pyplot as plt\n",
    "import matplotlib\n",
    "%matplotlib inline\n",
    "def font_size(s=22):\n",
    "    font = {'family' : 'normal',\n",
    "        'weight' : 'normal',\n",
    "        'size'   : s}\n",
    "\n",
    "    matplotlib.rc('font', **font)"
   ]
  },
  {
   "cell_type": "code",
   "execution_count": 2,
   "metadata": {
    "collapsed": false
   },
   "outputs": [],
   "source": [
    "# Read in files and name vars with syntax [male/female]_[authorship_position]_[numauths]\n",
    "def cols(name):\n",
    "    return [name + '_year', name + '_count']\n",
    "\n",
    "# Female\n",
    "# 1st auths\n",
    "f_0_3 = pd.read_csv('female_0th_auth_dataset_3or_more_auths_per_yr.csv')\n",
    "f_0_3.index = f_0_3['_id']\n",
    "f_0_3.columns = cols('f_0_3')\n",
    "\n",
    "# 2nd auths\n",
    "f_1_3 = pd.read_csv('female_1th_auth_dataset_3or_more_auths_per_yr.csv')\n",
    "f_1_3.index = f_1_3['_id']\n",
    "f_1_3.columns = cols('f_1_3')\n",
    "\n",
    "\n",
    "# Male\n",
    "# 1st auths\n",
    "m_0_3 = pd.read_csv('male_0th_auth_dataset_3or_more_auths_per_yr.csv')\n",
    "m_0_3.index = m_0_3['_id']\n",
    "m_0_3.columns = cols('m_0_3')\n",
    "\n",
    "# 2nd auths\n",
    "m_1_3 = pd.read_csv('male_1th_auth_dataset_3or_more_auths_per_yr.csv')\n",
    "m_1_3.index = m_1_3['_id']\n",
    "m_1_3.columns = cols('m_1_3')"
   ]
  },
  {
   "cell_type": "code",
   "execution_count": 3,
   "metadata": {
    "collapsed": false
   },
   "outputs": [],
   "source": [
    "# Female\n",
    "counter = 0\n",
    "for d in [f_0_3, f_1_3]:\n",
    "    if counter == 0:\n",
    "        master = d\n",
    "    else:\n",
    "        master = master.join(d)\n",
    "    counter += 1\n",
    "    \n",
    "female = master[(master.index < 2017) & (master.index >= 1960)]\n",
    "\n",
    "# Male\n",
    "counter = 0\n",
    "for d in [m_0_3, m_1_3]:\n",
    "    if counter == 0:\n",
    "        master = d\n",
    "    else:\n",
    "        master = master.join(d)\n",
    "    counter += 1\n",
    "\n",
    "male = master[(master.index < 2017) & (master.index >= 1960)]"
   ]
  },
  {
   "cell_type": "code",
   "execution_count": 4,
   "metadata": {
    "collapsed": false
   },
   "outputs": [
    {
     "data": {
      "text/html": [
       "<div>\n",
       "<style scoped>\n",
       "    .dataframe tbody tr th:only-of-type {\n",
       "        vertical-align: middle;\n",
       "    }\n",
       "\n",
       "    .dataframe tbody tr th {\n",
       "        vertical-align: top;\n",
       "    }\n",
       "\n",
       "    .dataframe thead th {\n",
       "        text-align: right;\n",
       "    }\n",
       "</style>\n",
       "<table border=\"1\" class=\"dataframe\">\n",
       "  <thead>\n",
       "    <tr style=\"text-align: right;\">\n",
       "      <th></th>\n",
       "      <th>f_0_3_year</th>\n",
       "      <th>f_0_3_count</th>\n",
       "      <th>f_1_3_year</th>\n",
       "      <th>f_1_3_count</th>\n",
       "    </tr>\n",
       "    <tr>\n",
       "      <th>_id</th>\n",
       "      <th></th>\n",
       "      <th></th>\n",
       "      <th></th>\n",
       "      <th></th>\n",
       "    </tr>\n",
       "  </thead>\n",
       "  <tbody>\n",
       "    <tr>\n",
       "      <th>1960.0</th>\n",
       "      <td>1960.0</td>\n",
       "      <td>0</td>\n",
       "      <td>1960.0</td>\n",
       "      <td>0</td>\n",
       "    </tr>\n",
       "    <tr>\n",
       "      <th>1961.0</th>\n",
       "      <td>1961.0</td>\n",
       "      <td>0</td>\n",
       "      <td>1961.0</td>\n",
       "      <td>0</td>\n",
       "    </tr>\n",
       "    <tr>\n",
       "      <th>1962.0</th>\n",
       "      <td>1962.0</td>\n",
       "      <td>0</td>\n",
       "      <td>1962.0</td>\n",
       "      <td>0</td>\n",
       "    </tr>\n",
       "    <tr>\n",
       "      <th>1963.0</th>\n",
       "      <td>1963.0</td>\n",
       "      <td>0</td>\n",
       "      <td>1963.0</td>\n",
       "      <td>1</td>\n",
       "    </tr>\n",
       "    <tr>\n",
       "      <th>1964.0</th>\n",
       "      <td>1964.0</td>\n",
       "      <td>0</td>\n",
       "      <td>1964.0</td>\n",
       "      <td>0</td>\n",
       "    </tr>\n",
       "  </tbody>\n",
       "</table>\n",
       "</div>"
      ],
      "text/plain": [
       "        f_0_3_year  f_0_3_count  f_1_3_year  f_1_3_count\n",
       "_id                                                     \n",
       "1960.0      1960.0            0      1960.0            0\n",
       "1961.0      1961.0            0      1961.0            0\n",
       "1962.0      1962.0            0      1962.0            0\n",
       "1963.0      1963.0            0      1963.0            1\n",
       "1964.0      1964.0            0      1964.0            0"
      ]
     },
     "execution_count": 4,
     "metadata": {},
     "output_type": "execute_result"
    }
   ],
   "source": [
    "female.head()"
   ]
  },
  {
   "cell_type": "code",
   "execution_count": 5,
   "metadata": {
    "collapsed": false
   },
   "outputs": [
    {
     "data": {
      "text/html": [
       "<div>\n",
       "<style scoped>\n",
       "    .dataframe tbody tr th:only-of-type {\n",
       "        vertical-align: middle;\n",
       "    }\n",
       "\n",
       "    .dataframe tbody tr th {\n",
       "        vertical-align: top;\n",
       "    }\n",
       "\n",
       "    .dataframe thead th {\n",
       "        text-align: right;\n",
       "    }\n",
       "</style>\n",
       "<table border=\"1\" class=\"dataframe\">\n",
       "  <thead>\n",
       "    <tr style=\"text-align: right;\">\n",
       "      <th></th>\n",
       "      <th>m_0_3_year</th>\n",
       "      <th>m_0_3_count</th>\n",
       "      <th>m_1_3_year</th>\n",
       "      <th>m_1_3_count</th>\n",
       "    </tr>\n",
       "    <tr>\n",
       "      <th>_id</th>\n",
       "      <th></th>\n",
       "      <th></th>\n",
       "      <th></th>\n",
       "      <th></th>\n",
       "    </tr>\n",
       "  </thead>\n",
       "  <tbody>\n",
       "    <tr>\n",
       "      <th>1960.0</th>\n",
       "      <td>1960.0</td>\n",
       "      <td>0</td>\n",
       "      <td>1960.0</td>\n",
       "      <td>0</td>\n",
       "    </tr>\n",
       "    <tr>\n",
       "      <th>1961.0</th>\n",
       "      <td>1961.0</td>\n",
       "      <td>0</td>\n",
       "      <td>1961.0</td>\n",
       "      <td>0</td>\n",
       "    </tr>\n",
       "    <tr>\n",
       "      <th>1962.0</th>\n",
       "      <td>1962.0</td>\n",
       "      <td>0</td>\n",
       "      <td>1962.0</td>\n",
       "      <td>0</td>\n",
       "    </tr>\n",
       "    <tr>\n",
       "      <th>1963.0</th>\n",
       "      <td>1963.0</td>\n",
       "      <td>1</td>\n",
       "      <td>1963.0</td>\n",
       "      <td>0</td>\n",
       "    </tr>\n",
       "    <tr>\n",
       "      <th>1964.0</th>\n",
       "      <td>1964.0</td>\n",
       "      <td>0</td>\n",
       "      <td>1964.0</td>\n",
       "      <td>0</td>\n",
       "    </tr>\n",
       "  </tbody>\n",
       "</table>\n",
       "</div>"
      ],
      "text/plain": [
       "        m_0_3_year  m_0_3_count  m_1_3_year  m_1_3_count\n",
       "_id                                                     \n",
       "1960.0      1960.0            0      1960.0            0\n",
       "1961.0      1961.0            0      1961.0            0\n",
       "1962.0      1962.0            0      1962.0            0\n",
       "1963.0      1963.0            1      1963.0            0\n",
       "1964.0      1964.0            0      1964.0            0"
      ]
     },
     "execution_count": 5,
     "metadata": {},
     "output_type": "execute_result"
    }
   ],
   "source": [
    "male.head()"
   ]
  },
  {
   "cell_type": "code",
   "execution_count": 6,
   "metadata": {
    "collapsed": false
   },
   "outputs": [
    {
     "name": "stderr",
     "output_type": "stream",
     "text": [
      "/Users/ilya/anaconda/lib/python2.7/site-packages/ipykernel/__main__.py:14: SettingWithCopyWarning: \n",
      "A value is trying to be set on a copy of a slice from a DataFrame.\n",
      "Try using .loc[row_indexer,col_indexer] = value instead\n",
      "\n",
      "See the caveats in the documentation: http://pandas.pydata.org/pandas-docs/stable/indexing.html#indexing-view-versus-copy\n",
      "/Users/ilya/anaconda/lib/python2.7/site-packages/ipykernel/__main__.py:15: SettingWithCopyWarning: \n",
      "A value is trying to be set on a copy of a slice from a DataFrame.\n",
      "Try using .loc[row_indexer,col_indexer] = value instead\n",
      "\n",
      "See the caveats in the documentation: http://pandas.pydata.org/pandas-docs/stable/indexing.html#indexing-view-versus-copy\n",
      "/Users/ilya/anaconda/lib/python2.7/site-packages/ipykernel/__main__.py:18: SettingWithCopyWarning: \n",
      "A value is trying to be set on a copy of a slice from a DataFrame.\n",
      "Try using .loc[row_indexer,col_indexer] = value instead\n",
      "\n",
      "See the caveats in the documentation: http://pandas.pydata.org/pandas-docs/stable/indexing.html#indexing-view-versus-copy\n",
      "/Users/ilya/anaconda/lib/python2.7/site-packages/ipykernel/__main__.py:20: SettingWithCopyWarning: \n",
      "A value is trying to be set on a copy of a slice from a DataFrame.\n",
      "Try using .loc[row_indexer,col_indexer] = value instead\n",
      "\n",
      "See the caveats in the documentation: http://pandas.pydata.org/pandas-docs/stable/indexing.html#indexing-view-versus-copy\n",
      "/Users/ilya/anaconda/lib/python2.7/site-packages/ipykernel/__main__.py:21: SettingWithCopyWarning: \n",
      "A value is trying to be set on a copy of a slice from a DataFrame.\n",
      "Try using .loc[row_indexer,col_indexer] = value instead\n",
      "\n",
      "See the caveats in the documentation: http://pandas.pydata.org/pandas-docs/stable/indexing.html#indexing-view-versus-copy\n",
      "/Users/ilya/anaconda/lib/python2.7/site-packages/ipykernel/__main__.py:22: SettingWithCopyWarning: \n",
      "A value is trying to be set on a copy of a slice from a DataFrame.\n",
      "Try using .loc[row_indexer,col_indexer] = value instead\n",
      "\n",
      "See the caveats in the documentation: http://pandas.pydata.org/pandas-docs/stable/indexing.html#indexing-view-versus-copy\n"
     ]
    }
   ],
   "source": [
    "# Female\n",
    "female['female_firsts'] = female.f_0_3_count\n",
    "female['female_seconds'] = female.f_1_3_count\n",
    "female_totals = female.female_seconds + female.female_firsts\n",
    "\n",
    "female['female_first_prop'] = female.female_firsts / female_totals\n",
    "numerator = (female['female_first_prop']*(1-female['female_first_prop']))\n",
    "female['female_first_prop_error'] = 1.96*(np.sqrt(numerator/female_totals))\n",
    "female['female_first_prop_max_estimate'] = female['female_first_prop'] + female['female_first_prop_error']\n",
    "female['female_first_prop_min_estimate'] = female['female_first_prop'] - female['female_first_prop_error']\n",
    "\n",
    "\n",
    "# Male\n",
    "male['male_firsts'] = male.m_0_3_count\n",
    "male['male_seconds'] = male.m_1_3_count\n",
    "male_totals = male.male_seconds + male.male_firsts\n",
    "\n",
    "male['male_first_prop'] = male.male_firsts / male_totals\n",
    "numerator = (male['male_first_prop']*(1-male['male_first_prop']))\n",
    "male['male_first_prop_error'] = 1.96*(np.sqrt(numerator/male_totals))\n",
    "male['male_first_prop_max_estimate'] = male['male_first_prop'] + male['male_first_prop_error']\n",
    "male['male_first_prop_min_estimate'] = male['male_first_prop'] - male['male_first_prop_error']"
   ]
  },
  {
   "cell_type": "code",
   "execution_count": 7,
   "metadata": {
    "collapsed": false
   },
   "outputs": [
    {
     "name": "stderr",
     "output_type": "stream",
     "text": [
      "/Users/ilya/anaconda/lib/python2.7/site-packages/matplotlib/font_manager.py:1328: UserWarning: findfont: Font family [u'normal'] not found. Falling back to DejaVu Sans\n",
      "  (prop.get_family(), self.defaultFamily[fontext]))\n"
     ]
    },
    {
     "data": {
      "image/png": "[encoded data removed]",
      "text/plain": [
       "<Figure size 1080x720 with 1 Axes>"
      ]
     },
     "metadata": {},
     "output_type": "display_data"
    }
   ],
   "source": [
    "plt.figure(figsize=(15,10))\n",
    "font_size(14)\n",
    "\n",
    "# Female\n",
    "plt.errorbar(x=female.index, y=female.female_first_prop, yerr=female.female_first_prop_error, fmt='o', label='Female name',\n",
    "            ecolor=[.48, .6, .75,.5], color=[.35, .5, .85,1], capsize=4)\n",
    "# Male\n",
    "plt.errorbar(x=male.index, y=male.male_first_prop, yerr=male.male_first_prop_error, fmt='o', label='Male name',\n",
    "            ecolor=[.84,.75, .42, .5], color=[.75,.6, .36, 1], capsize=4)\n",
    "\n",
    "plt.legend(loc=5)\n",
    "ax = plt.gca()\n",
    "ax.spines['right'].set_visible(False)\n",
    "ax.spines['top'].set_visible(False)\n",
    "\n",
    "plt.xlabel('Year')\n",
    "plt.ylabel('Proportion 1st authorships (out of total 1st+2nd authorships)')\n",
    "plt.title(\"Proportion 1st authorships, by gender, for datasets.\\nMale n={}, female n={}\".format(\n",
    "    male_totals.sum(), female_totals.sum()), color='black')\n",
    "plt.savefig('/Users/ilya/code/publishing_biases/analyze/analyses/dataset/prop_1st_authorships.png',\n",
    "           dpi=400)"
   ]
  },
  {
   "cell_type": "code",
   "execution_count": 8,
   "metadata": {
    "collapsed": false
   },
   "outputs": [
    {
     "name": "stdout",
     "output_type": "stream",
     "text": [
      "Power_divergenceResult(statistic=2.3773149672377585, pvalue=0.12310898094905326)\n"
     ]
    }
   ],
   "source": [
    "female_sums = female.female_firsts.sum() / float(female_totals.sum())\n",
    "male_sums = male.male_firsts.sum() / float(male_totals.sum())\n",
    "from scipy.stats import chisquare as chi\n",
    "\n",
    "# How many first authorships would we expect vs observe?\n",
    "f_observed = female.female_firsts.sum()\n",
    "f_expected = female_totals.sum()/2.0\n",
    "\n",
    "m_observed = male.male_firsts.sum()\n",
    "m_expected = male_totals.sum()/2.0\n",
    "\n",
    "print chi([m_observed, f_observed], f_exp=[m_expected, f_expected])"
   ]
  },
  {
   "cell_type": "code",
   "execution_count": 10,
   "metadata": {
    "collapsed": false
   },
   "outputs": [
    {
     "name": "stdout",
     "output_type": "stream",
     "text": [
      "([1055, 999], [1028.5, 1041.0])\n"
     ]
    }
   ],
   "source": [
    "print ([m_observed, f_observed], [m_expected, f_expected])"
   ]
  },
  {
   "cell_type": "code",
   "execution_count": null,
   "metadata": {
    "collapsed": false
   },
   "outputs": [],
   "source": []
  },
  {
   "cell_type": "code",
   "execution_count": null,
   "metadata": {
    "collapsed": true
   },
   "outputs": [],
   "source": []
  },
  {
   "cell_type": "code",
   "execution_count": null,
   "metadata": {
    "collapsed": true
   },
   "outputs": [],
   "source": []
  }
 ],
 "metadata": {
  "kernelspec": {
   "display_name": "Python 2",
   "language": "python",
   "name": "python2"
  },
  "language_info": {
   "codemirror_mode": {
    "name": "ipython",
    "version": 2
   },
   "file_extension": ".py",
   "mimetype": "text/x-python",
   "name": "python",
   "nbconvert_exporter": "python",
   "pygments_lexer": "ipython2",
   "version": "2.7.13"
  }
 },
 "nbformat": 4,
 "nbformat_minor": 2
}
